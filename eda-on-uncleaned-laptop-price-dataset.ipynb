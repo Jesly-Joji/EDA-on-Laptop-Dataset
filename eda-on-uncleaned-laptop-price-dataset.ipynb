{
 "cells": [
  {
   "cell_type": "code",
   "execution_count": 1,
   "id": "fd7e37fe",
   "metadata": {
    "_cell_guid": "b1076dfc-b9ad-4769-8c92-a6c4dae69d19",
    "_uuid": "8f2839f25d086af736a60e9eeb907d3b93b6e0e5",
    "execution": {
     "iopub.execute_input": "2024-09-28T14:46:00.366003Z",
     "iopub.status.busy": "2024-09-28T14:46:00.365559Z",
     "iopub.status.idle": "2024-09-28T14:46:03.513102Z",
     "shell.execute_reply": "2024-09-28T14:46:03.511859Z"
    },
    "papermill": {
     "duration": 3.161102,
     "end_time": "2024-09-28T14:46:03.516144",
     "exception": false,
     "start_time": "2024-09-28T14:46:00.355042",
     "status": "completed"
    },
    "tags": []
   },
   "outputs": [],
   "source": [
    "#IMPORT STATEMENTS\n",
    "import re\n",
    "import numpy as np\n",
    "import pandas as pd\n",
    "import seaborn as sns\n",
    "import matplotlib.pyplot as plt"
   ]
  },
  {
   "cell_type": "code",
   "execution_count": 2,
   "id": "7711e392",
   "metadata": {
    "execution": {
     "iopub.execute_input": "2024-09-28T14:46:03.537869Z",
     "iopub.status.busy": "2024-09-28T14:46:03.537277Z",
     "iopub.status.idle": "2024-09-28T14:46:03.573772Z",
     "shell.execute_reply": "2024-09-28T14:46:03.572516Z"
    },
    "papermill": {
     "duration": 0.049764,
     "end_time": "2024-09-28T14:46:03.576849",
     "exception": false,
     "start_time": "2024-09-28T14:46:03.527085",
     "status": "completed"
    },
    "tags": []
   },
   "outputs": [],
   "source": [
    "#LOAD THE DATASET\n",
    "df=pd.read_csv(\"/kaggle/input/uncleaned-laptop-price-dataset/laptopData.csv\")"
   ]
  },
  {
   "cell_type": "code",
   "execution_count": 3,
   "id": "acd1d4bb",
   "metadata": {
    "execution": {
     "iopub.execute_input": "2024-09-28T14:46:03.595539Z",
     "iopub.status.busy": "2024-09-28T14:46:03.595056Z",
     "iopub.status.idle": "2024-09-28T14:46:03.627679Z",
     "shell.execute_reply": "2024-09-28T14:46:03.626283Z"
    },
    "papermill": {
     "duration": 0.045163,
     "end_time": "2024-09-28T14:46:03.630430",
     "exception": false,
     "start_time": "2024-09-28T14:46:03.585267",
     "status": "completed"
    },
    "tags": []
   },
   "outputs": [
    {
     "data": {
      "text/html": [
       "<div>\n",
       "<style scoped>\n",
       "    .dataframe tbody tr th:only-of-type {\n",
       "        vertical-align: middle;\n",
       "    }\n",
       "\n",
       "    .dataframe tbody tr th {\n",
       "        vertical-align: top;\n",
       "    }\n",
       "\n",
       "    .dataframe thead th {\n",
       "        text-align: right;\n",
       "    }\n",
       "</style>\n",
       "<table border=\"1\" class=\"dataframe\">\n",
       "  <thead>\n",
       "    <tr style=\"text-align: right;\">\n",
       "      <th></th>\n",
       "      <th>Unnamed: 0</th>\n",
       "      <th>Company</th>\n",
       "      <th>TypeName</th>\n",
       "      <th>Inches</th>\n",
       "      <th>ScreenResolution</th>\n",
       "      <th>Cpu</th>\n",
       "      <th>Ram</th>\n",
       "      <th>Memory</th>\n",
       "      <th>Gpu</th>\n",
       "      <th>OpSys</th>\n",
       "      <th>Weight</th>\n",
       "      <th>Price</th>\n",
       "    </tr>\n",
       "  </thead>\n",
       "  <tbody>\n",
       "    <tr>\n",
       "      <th>0</th>\n",
       "      <td>0.0</td>\n",
       "      <td>Apple</td>\n",
       "      <td>Ultrabook</td>\n",
       "      <td>13.3</td>\n",
       "      <td>IPS Panel Retina Display 2560x1600</td>\n",
       "      <td>Intel Core i5 2.3GHz</td>\n",
       "      <td>8GB</td>\n",
       "      <td>128GB SSD</td>\n",
       "      <td>Intel Iris Plus Graphics 640</td>\n",
       "      <td>macOS</td>\n",
       "      <td>1.37kg</td>\n",
       "      <td>71378.6832</td>\n",
       "    </tr>\n",
       "    <tr>\n",
       "      <th>1</th>\n",
       "      <td>1.0</td>\n",
       "      <td>Apple</td>\n",
       "      <td>Ultrabook</td>\n",
       "      <td>13.3</td>\n",
       "      <td>1440x900</td>\n",
       "      <td>Intel Core i5 1.8GHz</td>\n",
       "      <td>8GB</td>\n",
       "      <td>128GB Flash Storage</td>\n",
       "      <td>Intel HD Graphics 6000</td>\n",
       "      <td>macOS</td>\n",
       "      <td>1.34kg</td>\n",
       "      <td>47895.5232</td>\n",
       "    </tr>\n",
       "    <tr>\n",
       "      <th>2</th>\n",
       "      <td>2.0</td>\n",
       "      <td>HP</td>\n",
       "      <td>Notebook</td>\n",
       "      <td>15.6</td>\n",
       "      <td>Full HD 1920x1080</td>\n",
       "      <td>Intel Core i5 7200U 2.5GHz</td>\n",
       "      <td>8GB</td>\n",
       "      <td>256GB SSD</td>\n",
       "      <td>Intel HD Graphics 620</td>\n",
       "      <td>No OS</td>\n",
       "      <td>1.86kg</td>\n",
       "      <td>30636.0000</td>\n",
       "    </tr>\n",
       "    <tr>\n",
       "      <th>3</th>\n",
       "      <td>3.0</td>\n",
       "      <td>Apple</td>\n",
       "      <td>Ultrabook</td>\n",
       "      <td>15.4</td>\n",
       "      <td>IPS Panel Retina Display 2880x1800</td>\n",
       "      <td>Intel Core i7 2.7GHz</td>\n",
       "      <td>16GB</td>\n",
       "      <td>512GB SSD</td>\n",
       "      <td>AMD Radeon Pro 455</td>\n",
       "      <td>macOS</td>\n",
       "      <td>1.83kg</td>\n",
       "      <td>135195.3360</td>\n",
       "    </tr>\n",
       "    <tr>\n",
       "      <th>4</th>\n",
       "      <td>4.0</td>\n",
       "      <td>Apple</td>\n",
       "      <td>Ultrabook</td>\n",
       "      <td>13.3</td>\n",
       "      <td>IPS Panel Retina Display 2560x1600</td>\n",
       "      <td>Intel Core i5 3.1GHz</td>\n",
       "      <td>8GB</td>\n",
       "      <td>256GB SSD</td>\n",
       "      <td>Intel Iris Plus Graphics 650</td>\n",
       "      <td>macOS</td>\n",
       "      <td>1.37kg</td>\n",
       "      <td>96095.8080</td>\n",
       "    </tr>\n",
       "  </tbody>\n",
       "</table>\n",
       "</div>"
      ],
      "text/plain": [
       "   Unnamed: 0 Company   TypeName Inches                    ScreenResolution  \\\n",
       "0         0.0   Apple  Ultrabook   13.3  IPS Panel Retina Display 2560x1600   \n",
       "1         1.0   Apple  Ultrabook   13.3                            1440x900   \n",
       "2         2.0      HP   Notebook   15.6                   Full HD 1920x1080   \n",
       "3         3.0   Apple  Ultrabook   15.4  IPS Panel Retina Display 2880x1800   \n",
       "4         4.0   Apple  Ultrabook   13.3  IPS Panel Retina Display 2560x1600   \n",
       "\n",
       "                          Cpu   Ram               Memory  \\\n",
       "0        Intel Core i5 2.3GHz   8GB            128GB SSD   \n",
       "1        Intel Core i5 1.8GHz   8GB  128GB Flash Storage   \n",
       "2  Intel Core i5 7200U 2.5GHz   8GB            256GB SSD   \n",
       "3        Intel Core i7 2.7GHz  16GB            512GB SSD   \n",
       "4        Intel Core i5 3.1GHz   8GB            256GB SSD   \n",
       "\n",
       "                            Gpu  OpSys  Weight        Price  \n",
       "0  Intel Iris Plus Graphics 640  macOS  1.37kg   71378.6832  \n",
       "1        Intel HD Graphics 6000  macOS  1.34kg   47895.5232  \n",
       "2         Intel HD Graphics 620  No OS  1.86kg   30636.0000  \n",
       "3            AMD Radeon Pro 455  macOS  1.83kg  135195.3360  \n",
       "4  Intel Iris Plus Graphics 650  macOS  1.37kg   96095.8080  "
      ]
     },
     "execution_count": 3,
     "metadata": {},
     "output_type": "execute_result"
    }
   ],
   "source": [
    "df.head()"
   ]
  },
  {
   "cell_type": "code",
   "execution_count": 4,
   "id": "5aacfe5f",
   "metadata": {
    "execution": {
     "iopub.execute_input": "2024-09-28T14:46:03.651653Z",
     "iopub.status.busy": "2024-09-28T14:46:03.651257Z",
     "iopub.status.idle": "2024-09-28T14:46:03.683700Z",
     "shell.execute_reply": "2024-09-28T14:46:03.682363Z"
    },
    "papermill": {
     "duration": 0.046361,
     "end_time": "2024-09-28T14:46:03.686285",
     "exception": false,
     "start_time": "2024-09-28T14:46:03.639924",
     "status": "completed"
    },
    "tags": []
   },
   "outputs": [
    {
     "name": "stdout",
     "output_type": "stream",
     "text": [
      "<class 'pandas.core.frame.DataFrame'>\n",
      "RangeIndex: 1303 entries, 0 to 1302\n",
      "Data columns (total 12 columns):\n",
      " #   Column            Non-Null Count  Dtype  \n",
      "---  ------            --------------  -----  \n",
      " 0   Unnamed: 0        1273 non-null   float64\n",
      " 1   Company           1273 non-null   object \n",
      " 2   TypeName          1273 non-null   object \n",
      " 3   Inches            1273 non-null   object \n",
      " 4   ScreenResolution  1273 non-null   object \n",
      " 5   Cpu               1273 non-null   object \n",
      " 6   Ram               1273 non-null   object \n",
      " 7   Memory            1273 non-null   object \n",
      " 8   Gpu               1273 non-null   object \n",
      " 9   OpSys             1273 non-null   object \n",
      " 10  Weight            1273 non-null   object \n",
      " 11  Price             1273 non-null   float64\n",
      "dtypes: float64(2), object(10)\n",
      "memory usage: 122.3+ KB\n"
     ]
    }
   ],
   "source": [
    "df.info()"
   ]
  },
  {
   "cell_type": "code",
   "execution_count": 5,
   "id": "2765780a",
   "metadata": {
    "execution": {
     "iopub.execute_input": "2024-09-28T14:46:03.705522Z",
     "iopub.status.busy": "2024-09-28T14:46:03.705064Z",
     "iopub.status.idle": "2024-09-28T14:46:03.714140Z",
     "shell.execute_reply": "2024-09-28T14:46:03.712573Z"
    },
    "papermill": {
     "duration": 0.021963,
     "end_time": "2024-09-28T14:46:03.717140",
     "exception": false,
     "start_time": "2024-09-28T14:46:03.695177",
     "status": "completed"
    },
    "tags": []
   },
   "outputs": [
    {
     "data": {
      "text/plain": [
       "(1303, 12)"
      ]
     },
     "execution_count": 5,
     "metadata": {},
     "output_type": "execute_result"
    }
   ],
   "source": [
    "df.shape"
   ]
  },
  {
   "cell_type": "code",
   "execution_count": 6,
   "id": "15a5eeaf",
   "metadata": {
    "execution": {
     "iopub.execute_input": "2024-09-28T14:46:03.738253Z",
     "iopub.status.busy": "2024-09-28T14:46:03.737799Z",
     "iopub.status.idle": "2024-09-28T14:46:03.751608Z",
     "shell.execute_reply": "2024-09-28T14:46:03.749857Z"
    },
    "papermill": {
     "duration": 0.030087,
     "end_time": "2024-09-28T14:46:03.757432",
     "exception": false,
     "start_time": "2024-09-28T14:46:03.727345",
     "status": "completed"
    },
    "tags": []
   },
   "outputs": [
    {
     "data": {
      "text/plain": [
       "Unnamed: 0          30\n",
       "Company             30\n",
       "TypeName            30\n",
       "Inches              30\n",
       "ScreenResolution    30\n",
       "Cpu                 30\n",
       "Ram                 30\n",
       "Memory              30\n",
       "Gpu                 30\n",
       "OpSys               30\n",
       "Weight              30\n",
       "Price               30\n",
       "dtype: int64"
      ]
     },
     "execution_count": 6,
     "metadata": {},
     "output_type": "execute_result"
    }
   ],
   "source": [
    "df.isna().sum()"
   ]
  },
  {
   "cell_type": "code",
   "execution_count": 7,
   "id": "190130e2",
   "metadata": {
    "execution": {
     "iopub.execute_input": "2024-09-28T14:46:03.779646Z",
     "iopub.status.busy": "2024-09-28T14:46:03.778892Z",
     "iopub.status.idle": "2024-09-28T14:46:03.794434Z",
     "shell.execute_reply": "2024-09-28T14:46:03.792533Z"
    },
    "papermill": {
     "duration": 0.030346,
     "end_time": "2024-09-28T14:46:03.798920",
     "exception": false,
     "start_time": "2024-09-28T14:46:03.768574",
     "status": "completed"
    },
    "tags": []
   },
   "outputs": [],
   "source": [
    "# Drop rows with missing values\n",
    "df.dropna(inplace=True)"
   ]
  },
  {
   "cell_type": "markdown",
   "id": "138ff75b",
   "metadata": {
    "papermill": {
     "duration": 0.012519,
     "end_time": "2024-09-28T14:46:03.821123",
     "exception": false,
     "start_time": "2024-09-28T14:46:03.808604",
     "status": "completed"
    },
    "tags": []
   },
   "source": [
    "# **Find the relationship b/w Operating System and Price of the laptops**"
   ]
  },
  {
   "cell_type": "code",
   "execution_count": 8,
   "id": "590cf9db",
   "metadata": {
    "execution": {
     "iopub.execute_input": "2024-09-28T14:46:03.847829Z",
     "iopub.status.busy": "2024-09-28T14:46:03.846606Z",
     "iopub.status.idle": "2024-09-28T14:46:03.857305Z",
     "shell.execute_reply": "2024-09-28T14:46:03.855388Z"
    },
    "papermill": {
     "duration": 0.028141,
     "end_time": "2024-09-28T14:46:03.860597",
     "exception": false,
     "start_time": "2024-09-28T14:46:03.832456",
     "status": "completed"
    },
    "tags": []
   },
   "outputs": [
    {
     "data": {
      "text/plain": [
       "array(['macOS', 'No OS', 'Windows 10', 'Mac OS X', 'Linux',\n",
       "       'Windows 10 S', 'Chrome OS', 'Windows 7', 'Android'], dtype=object)"
      ]
     },
     "execution_count": 8,
     "metadata": {},
     "output_type": "execute_result"
    }
   ],
   "source": [
    "df[\"OpSys\"].unique()"
   ]
  },
  {
   "cell_type": "code",
   "execution_count": 9,
   "id": "646a0915",
   "metadata": {
    "execution": {
     "iopub.execute_input": "2024-09-28T14:46:03.882964Z",
     "iopub.status.busy": "2024-09-28T14:46:03.882517Z",
     "iopub.status.idle": "2024-09-28T14:46:03.900600Z",
     "shell.execute_reply": "2024-09-28T14:46:03.899336Z"
    },
    "papermill": {
     "duration": 0.031753,
     "end_time": "2024-09-28T14:46:03.903198",
     "exception": false,
     "start_time": "2024-09-28T14:46:03.871445",
     "status": "completed"
    },
    "tags": []
   },
   "outputs": [
    {
     "data": {
      "text/html": [
       "<div>\n",
       "<style scoped>\n",
       "    .dataframe tbody tr th:only-of-type {\n",
       "        vertical-align: middle;\n",
       "    }\n",
       "\n",
       "    .dataframe tbody tr th {\n",
       "        vertical-align: top;\n",
       "    }\n",
       "\n",
       "    .dataframe thead th {\n",
       "        text-align: right;\n",
       "    }\n",
       "</style>\n",
       "<table border=\"1\" class=\"dataframe\">\n",
       "  <thead>\n",
       "    <tr style=\"text-align: right;\">\n",
       "      <th></th>\n",
       "      <th>Unnamed: 0</th>\n",
       "      <th>Price</th>\n",
       "    </tr>\n",
       "    <tr>\n",
       "      <th>OpSys</th>\n",
       "      <th></th>\n",
       "      <th></th>\n",
       "    </tr>\n",
       "  </thead>\n",
       "  <tbody>\n",
       "    <tr>\n",
       "      <th>Android</th>\n",
       "      <td>1114.000000</td>\n",
       "      <td>29250.720000</td>\n",
       "    </tr>\n",
       "    <tr>\n",
       "      <th>Chrome OS</th>\n",
       "      <td>772.370370</td>\n",
       "      <td>29495.018667</td>\n",
       "    </tr>\n",
       "    <tr>\n",
       "      <th>Linux</th>\n",
       "      <td>624.852459</td>\n",
       "      <td>32919.414846</td>\n",
       "    </tr>\n",
       "    <tr>\n",
       "      <th>Mac OS X</th>\n",
       "      <td>695.750000</td>\n",
       "      <td>67285.780200</td>\n",
       "    </tr>\n",
       "    <tr>\n",
       "      <th>No OS</th>\n",
       "      <td>555.984127</td>\n",
       "      <td>31892.934400</td>\n",
       "    </tr>\n",
       "    <tr>\n",
       "      <th>Windows 10</th>\n",
       "      <td>649.446991</td>\n",
       "      <td>62214.308452</td>\n",
       "    </tr>\n",
       "    <tr>\n",
       "      <th>Windows 10 S</th>\n",
       "      <td>354.375000</td>\n",
       "      <td>68543.654400</td>\n",
       "    </tr>\n",
       "    <tr>\n",
       "      <th>Windows 7</th>\n",
       "      <td>1036.755556</td>\n",
       "      <td>89864.783040</td>\n",
       "    </tr>\n",
       "    <tr>\n",
       "      <th>macOS</th>\n",
       "      <td>55.230769</td>\n",
       "      <td>93220.327385</td>\n",
       "    </tr>\n",
       "  </tbody>\n",
       "</table>\n",
       "</div>"
      ],
      "text/plain": [
       "               Unnamed: 0         Price\n",
       "OpSys                                  \n",
       "Android       1114.000000  29250.720000\n",
       "Chrome OS      772.370370  29495.018667\n",
       "Linux          624.852459  32919.414846\n",
       "Mac OS X       695.750000  67285.780200\n",
       "No OS          555.984127  31892.934400\n",
       "Windows 10     649.446991  62214.308452\n",
       "Windows 10 S   354.375000  68543.654400\n",
       "Windows 7     1036.755556  89864.783040\n",
       "macOS           55.230769  93220.327385"
      ]
     },
     "execution_count": 9,
     "metadata": {},
     "output_type": "execute_result"
    }
   ],
   "source": [
    "df.groupby(\"OpSys\").mean(\"Price\")"
   ]
  },
  {
   "cell_type": "code",
   "execution_count": 10,
   "id": "2f455f59",
   "metadata": {
    "execution": {
     "iopub.execute_input": "2024-09-28T14:46:03.924482Z",
     "iopub.status.busy": "2024-09-28T14:46:03.924060Z",
     "iopub.status.idle": "2024-09-28T14:46:03.931904Z",
     "shell.execute_reply": "2024-09-28T14:46:03.930324Z"
    },
    "papermill": {
     "duration": 0.020818,
     "end_time": "2024-09-28T14:46:03.934419",
     "exception": false,
     "start_time": "2024-09-28T14:46:03.913601",
     "status": "completed"
    },
    "tags": []
   },
   "outputs": [],
   "source": [
    "OS=df.groupby(\"OpSys\")[\"Price\"].mean().sort_values()\n",
    "X=OS.index\n",
    "Y=OS.values"
   ]
  },
  {
   "cell_type": "code",
   "execution_count": 11,
   "id": "bfa564ca",
   "metadata": {
    "execution": {
     "iopub.execute_input": "2024-09-28T14:46:03.955243Z",
     "iopub.status.busy": "2024-09-28T14:46:03.954844Z",
     "iopub.status.idle": "2024-09-28T14:46:04.372390Z",
     "shell.execute_reply": "2024-09-28T14:46:04.370865Z"
    },
    "papermill": {
     "duration": 0.431362,
     "end_time": "2024-09-28T14:46:04.375372",
     "exception": false,
     "start_time": "2024-09-28T14:46:03.944010",
     "status": "completed"
    },
    "tags": []
   },
   "outputs": [
    {
     "data": {
      "text/plain": [
       "Text(0.5, 1.0, 'Find the relationship b/w Operating System and Price of the laptops')"
      ]
     },
     "execution_count": 11,
     "metadata": {},
     "output_type": "execute_result"
    },
    {
     "data": {
      "image/png": "[encoded data removed]",
      "text/plain": [
       "<Figure size 1200x600 with 1 Axes>"
      ]
     },
     "metadata": {},
     "output_type": "display_data"
    }
   ],
   "source": [
    "plt.figure(figsize=(12,6))\n",
    "sns.barplot(x=X,y=Y,palette='viridis') # skip hue as it give issue withe size of bar in kaggle\n",
    "plt.xlabel(\"Operating System\")\n",
    "plt.ylabel(\"Price\")\n",
    "plt.title(\"Find the relationship b/w Operating System and Price of the laptops\")"
   ]
  },
  {
   "cell_type": "code",
   "execution_count": 12,
   "id": "2c86a0a7",
   "metadata": {
    "execution": {
     "iopub.execute_input": "2024-09-28T14:46:04.400370Z",
     "iopub.status.busy": "2024-09-28T14:46:04.399960Z",
     "iopub.status.idle": "2024-09-28T14:46:04.772884Z",
     "shell.execute_reply": "2024-09-28T14:46:04.770970Z"
    },
    "papermill": {
     "duration": 0.390887,
     "end_time": "2024-09-28T14:46:04.778913",
     "exception": false,
     "start_time": "2024-09-28T14:46:04.388026",
     "status": "completed"
    },
    "tags": []
   },
   "outputs": [
    {
     "data": {
      "text/plain": [
       "Text(0.5, 1.0, 'Find the relationship b/w Operating System and Price of the laptops')"
      ]
     },
     "execution_count": 12,
     "metadata": {},
     "output_type": "execute_result"
    },
    {
     "data": {
      "image/png": "[encoded data removed]",
      "text/plain": [
       "<Figure size 1200x500 with 1 Axes>"
      ]
     },
     "metadata": {},
     "output_type": "display_data"
    }
   ],
   "source": [
    "plt.figure(figsize=(12,5))\n",
    "plt.plot(X,Y,color=\"red\",marker='o')\n",
    "plt.xlabel(\"Operating System\")\n",
    "plt.ylabel(\"Price\")\n",
    "plt.title(\"Find the relationship b/w Operating System and Price of the laptops\")"
   ]
  },
  {
   "cell_type": "markdown",
   "id": "430bb84e",
   "metadata": {
    "papermill": {
     "duration": 0.010931,
     "end_time": "2024-09-28T14:46:04.801652",
     "exception": false,
     "start_time": "2024-09-28T14:46:04.790721",
     "status": "completed"
    },
    "tags": []
   },
   "source": [
    "# **Check the Weight Distribution of laptops and also Find relation b/w weights and price**"
   ]
  },
  {
   "cell_type": "code",
   "execution_count": 13,
   "id": "0f8e4342",
   "metadata": {
    "execution": {
     "iopub.execute_input": "2024-09-28T14:46:04.830220Z",
     "iopub.status.busy": "2024-09-28T14:46:04.829461Z",
     "iopub.status.idle": "2024-09-28T14:46:04.842613Z",
     "shell.execute_reply": "2024-09-28T14:46:04.839611Z"
    },
    "papermill": {
     "duration": 0.03344,
     "end_time": "2024-09-28T14:46:04.847016",
     "exception": false,
     "start_time": "2024-09-28T14:46:04.813576",
     "status": "completed"
    },
    "tags": []
   },
   "outputs": [
    {
     "data": {
      "text/plain": [
       "0    1.37kg\n",
       "1    1.34kg\n",
       "2    1.86kg\n",
       "3    1.83kg\n",
       "4    1.37kg\n",
       "Name: Weight, dtype: object"
      ]
     },
     "execution_count": 13,
     "metadata": {},
     "output_type": "execute_result"
    }
   ],
   "source": [
    "df[\"Weight\"].head()"
   ]
  },
  {
   "cell_type": "code",
   "execution_count": 14,
   "id": "68fbd6e9",
   "metadata": {
    "execution": {
     "iopub.execute_input": "2024-09-28T14:46:04.886278Z",
     "iopub.status.busy": "2024-09-28T14:46:04.885850Z",
     "iopub.status.idle": "2024-09-28T14:46:04.892697Z",
     "shell.execute_reply": "2024-09-28T14:46:04.891186Z"
    },
    "papermill": {
     "duration": 0.035679,
     "end_time": "2024-09-28T14:46:04.896057",
     "exception": false,
     "start_time": "2024-09-28T14:46:04.860378",
     "status": "completed"
    },
    "tags": []
   },
   "outputs": [],
   "source": [
    "def clean(text):\n",
    "    text = str(text)\n",
    "    text = re.sub('[^0-9.]', '', text)\n",
    "    return text"
   ]
  },
  {
   "cell_type": "code",
   "execution_count": 15,
   "id": "4ce33fb3",
   "metadata": {
    "execution": {
     "iopub.execute_input": "2024-09-28T14:46:04.928913Z",
     "iopub.status.busy": "2024-09-28T14:46:04.928454Z",
     "iopub.status.idle": "2024-09-28T14:46:04.937624Z",
     "shell.execute_reply": "2024-09-28T14:46:04.936224Z"
    },
    "papermill": {
     "duration": 0.027678,
     "end_time": "2024-09-28T14:46:04.940217",
     "exception": false,
     "start_time": "2024-09-28T14:46:04.912539",
     "status": "completed"
    },
    "tags": []
   },
   "outputs": [],
   "source": [
    "df[\"Weight\"] = df[\"Weight\"].apply(clean)"
   ]
  },
  {
   "cell_type": "code",
   "execution_count": 16,
   "id": "429e4c3c",
   "metadata": {
    "execution": {
     "iopub.execute_input": "2024-09-28T14:46:04.964200Z",
     "iopub.status.busy": "2024-09-28T14:46:04.963635Z",
     "iopub.status.idle": "2024-09-28T14:46:04.971149Z",
     "shell.execute_reply": "2024-09-28T14:46:04.969842Z"
    },
    "papermill": {
     "duration": 0.022496,
     "end_time": "2024-09-28T14:46:04.973882",
     "exception": false,
     "start_time": "2024-09-28T14:46:04.951386",
     "status": "completed"
    },
    "tags": []
   },
   "outputs": [],
   "source": [
    "df[\"Weight\"]=pd.to_numeric(df[\"Weight\"])"
   ]
  },
  {
   "cell_type": "code",
   "execution_count": 17,
   "id": "6e05e4dd",
   "metadata": {
    "execution": {
     "iopub.execute_input": "2024-09-28T14:46:04.999498Z",
     "iopub.status.busy": "2024-09-28T14:46:04.999108Z",
     "iopub.status.idle": "2024-09-28T14:46:05.008585Z",
     "shell.execute_reply": "2024-09-28T14:46:05.007151Z"
    },
    "papermill": {
     "duration": 0.025863,
     "end_time": "2024-09-28T14:46:05.011559",
     "exception": false,
     "start_time": "2024-09-28T14:46:04.985696",
     "status": "completed"
    },
    "tags": []
   },
   "outputs": [
    {
     "data": {
      "text/plain": [
       "0    1.37\n",
       "Name: Weight, dtype: float64"
      ]
     },
     "execution_count": 17,
     "metadata": {},
     "output_type": "execute_result"
    }
   ],
   "source": [
    "df[\"Weight\"].head(1)"
   ]
  },
  {
   "cell_type": "code",
   "execution_count": 18,
   "id": "d0aa3c38",
   "metadata": {
    "execution": {
     "iopub.execute_input": "2024-09-28T14:46:05.037038Z",
     "iopub.status.busy": "2024-09-28T14:46:05.036618Z",
     "iopub.status.idle": "2024-09-28T14:46:05.496776Z",
     "shell.execute_reply": "2024-09-28T14:46:05.495267Z"
    },
    "papermill": {
     "duration": 0.476177,
     "end_time": "2024-09-28T14:46:05.499450",
     "exception": false,
     "start_time": "2024-09-28T14:46:05.023273",
     "status": "completed"
    },
    "tags": []
   },
   "outputs": [
    {
     "name": "stderr",
     "output_type": "stream",
     "text": [
      "/opt/conda/lib/python3.10/site-packages/seaborn/_oldcore.py:1119: FutureWarning: use_inf_as_na option is deprecated and will be removed in a future version. Convert inf values to NaN before operating instead.\n",
      "  with pd.option_context('mode.use_inf_as_na', True):\n"
     ]
    },
    {
     "data": {
      "text/plain": [
       "Text(0.5, 1.0, 'Weight Distribution of Laptops')"
      ]
     },
     "execution_count": 18,
     "metadata": {},
     "output_type": "execute_result"
    },
    {
     "data": {
      "image/png": "[encoded data removed]",
      "text/plain": [
       "<Figure size 640x480 with 1 Axes>"
      ]
     },
     "metadata": {},
     "output_type": "display_data"
    }
   ],
   "source": [
    "# Plot the histogram for laptop weights\n",
    "sns.histplot(df['Weight'], bins=20, kde=True, color='green')\n",
    "\n",
    "# Add labels and title\n",
    "plt.xlabel('Weight (kg)')\n",
    "plt.ylabel('Frequency')\n",
    "plt.title('Weight Distribution of Laptops')"
   ]
  },
  {
   "cell_type": "code",
   "execution_count": 19,
   "id": "d2c357d6",
   "metadata": {
    "execution": {
     "iopub.execute_input": "2024-09-28T14:46:05.525727Z",
     "iopub.status.busy": "2024-09-28T14:46:05.525306Z",
     "iopub.status.idle": "2024-09-28T14:46:05.545385Z",
     "shell.execute_reply": "2024-09-28T14:46:05.543973Z"
    },
    "papermill": {
     "duration": 0.035927,
     "end_time": "2024-09-28T14:46:05.547888",
     "exception": false,
     "start_time": "2024-09-28T14:46:05.511961",
     "status": "completed"
    },
    "tags": []
   },
   "outputs": [],
   "source": [
    "bins=[1,2,3,4,5,6,7,8,9]\n",
    "df['Weight-Range'] = pd.cut(df['Weight'], bins=bins)"
   ]
  },
  {
   "cell_type": "code",
   "execution_count": 20,
   "id": "ebf7a66d",
   "metadata": {
    "execution": {
     "iopub.execute_input": "2024-09-28T14:46:05.573923Z",
     "iopub.status.busy": "2024-09-28T14:46:05.573486Z",
     "iopub.status.idle": "2024-09-28T14:46:05.868336Z",
     "shell.execute_reply": "2024-09-28T14:46:05.867129Z"
    },
    "papermill": {
     "duration": 0.31098,
     "end_time": "2024-09-28T14:46:05.871247",
     "exception": false,
     "start_time": "2024-09-28T14:46:05.560267",
     "status": "completed"
    },
    "tags": []
   },
   "outputs": [
    {
     "name": "stderr",
     "output_type": "stream",
     "text": [
      "/tmp/ipykernel_17/3367324207.py:1: FutureWarning: The default of observed=False is deprecated and will be changed to True in a future version of pandas. Pass observed=False to retain current behavior or observed=True to adopt the future default and silence this warning.\n",
      "  Weight_Group = df.groupby(\"Weight-Range\")[\"Price\"].mean()\n",
      "/opt/conda/lib/python3.10/site-packages/seaborn/categorical.py:641: FutureWarning: The default of observed=False is deprecated and will be changed to True in a future version of pandas. Pass observed=False to retain current behavior or observed=True to adopt the future default and silence this warning.\n",
      "  grouped_vals = vals.groupby(grouper)\n"
     ]
    },
    {
     "data": {
      "text/plain": [
       "Text(0, 0.5, 'Price')"
      ]
     },
     "execution_count": 20,
     "metadata": {},
     "output_type": "execute_result"
    },
    {
     "data": {
      "image/png": "[encoded data removed]",
      "text/plain": [
       "<Figure size 640x480 with 1 Axes>"
      ]
     },
     "metadata": {},
     "output_type": "display_data"
    }
   ],
   "source": [
    "Weight_Group = df.groupby(\"Weight-Range\")[\"Price\"].mean()\n",
    "\n",
    "# Getting the index\n",
    "X=Weight_Group.index\n",
    "Y=Weight_Group.values\n",
    "\n",
    "# Creating the barplot\n",
    "sns.barplot(x=X, y=Y,palette=\"viridis\")\n",
    "plt.ylabel(\"Price\")"
   ]
  },
  {
   "cell_type": "markdown",
   "id": "731bddde",
   "metadata": {
    "papermill": {
     "duration": 0.012887,
     "end_time": "2024-09-28T14:46:05.896730",
     "exception": false,
     "start_time": "2024-09-28T14:46:05.883843",
     "status": "completed"
    },
    "tags": []
   },
   "source": [
    "# **Number of Laptops with Ram with price**"
   ]
  },
  {
   "cell_type": "code",
   "execution_count": 21,
   "id": "c99b5a24",
   "metadata": {
    "execution": {
     "iopub.execute_input": "2024-09-28T14:46:05.926376Z",
     "iopub.status.busy": "2024-09-28T14:46:05.925970Z",
     "iopub.status.idle": "2024-09-28T14:46:06.233513Z",
     "shell.execute_reply": "2024-09-28T14:46:06.232030Z"
    },
    "papermill": {
     "duration": 0.3262,
     "end_time": "2024-09-28T14:46:06.236426",
     "exception": false,
     "start_time": "2024-09-28T14:46:05.910226",
     "status": "completed"
    },
    "tags": []
   },
   "outputs": [
    {
     "data": {
      "text/plain": [
       "Text(0.5, 0, 'Price')"
      ]
     },
     "execution_count": 21,
     "metadata": {},
     "output_type": "execute_result"
    },
    {
     "data": {
      "image/png": "[encoded data removed]",
      "text/plain": [
       "<Figure size 640x480 with 1 Axes>"
      ]
     },
     "metadata": {},
     "output_type": "display_data"
    }
   ],
   "source": [
    "Ram=df.groupby(\"Ram\")[\"Price\"].mean().sort_values()\n",
    "X=Ram.index\n",
    "Y=Ram.values\n",
    "sns.barplot(x=X,y=Y,palette=\"viridis\")\n",
    "plt.xlabel(\"Price\")"
   ]
  },
  {
   "cell_type": "code",
   "execution_count": 22,
   "id": "c4edec89",
   "metadata": {
    "execution": {
     "iopub.execute_input": "2024-09-28T14:46:06.267508Z",
     "iopub.status.busy": "2024-09-28T14:46:06.267038Z",
     "iopub.status.idle": "2024-09-28T14:46:06.584340Z",
     "shell.execute_reply": "2024-09-28T14:46:06.583111Z"
    },
    "papermill": {
     "duration": 0.336478,
     "end_time": "2024-09-28T14:46:06.587092",
     "exception": false,
     "start_time": "2024-09-28T14:46:06.250614",
     "status": "completed"
    },
    "tags": []
   },
   "outputs": [
    {
     "data": {
      "text/plain": [
       "Text(0.5, 1.0, 'Number of Laptops with Ram with price')"
      ]
     },
     "execution_count": 22,
     "metadata": {},
     "output_type": "execute_result"
    },
    {
     "data": {
      "image/png": "[encoded data removed]",
      "text/plain": [
       "<Figure size 640x480 with 1 Axes>"
      ]
     },
     "metadata": {},
     "output_type": "display_data"
    }
   ],
   "source": [
    "plt.plot(X,Y,color=\"red\",marker='o')\n",
    "plt.xlabel(\"Ram\")\n",
    "plt.ylabel(\"Price\")\n",
    "plt.title(\"Number of Laptops with Ram with price\")"
   ]
  },
  {
   "cell_type": "markdown",
   "id": "aa999a25",
   "metadata": {
    "papermill": {
     "duration": 0.013261,
     "end_time": "2024-09-28T14:46:06.614606",
     "exception": false,
     "start_time": "2024-09-28T14:46:06.601345",
     "status": "completed"
    },
    "tags": []
   },
   "source": [
    "# **6. Is CPU Brand affecting the price of laptops**"
   ]
  },
  {
   "cell_type": "code",
   "execution_count": 23,
   "id": "ce40c3f1",
   "metadata": {
    "execution": {
     "iopub.execute_input": "2024-09-28T14:46:06.643876Z",
     "iopub.status.busy": "2024-09-28T14:46:06.643386Z",
     "iopub.status.idle": "2024-09-28T14:46:06.651267Z",
     "shell.execute_reply": "2024-09-28T14:46:06.649818Z"
    },
    "papermill": {
     "duration": 0.025244,
     "end_time": "2024-09-28T14:46:06.653659",
     "exception": false,
     "start_time": "2024-09-28T14:46:06.628415",
     "status": "completed"
    },
    "tags": []
   },
   "outputs": [],
   "source": [
    "def categorize_cpu_brand(text):\n",
    "  text=str(text)\n",
    "  if \"Intel\" in text:\n",
    "     return \"Intel\"\n",
    "\n",
    "  elif \"AMD\" in text:\n",
    "       return \"AMD\"\n",
    "\n",
    "  elif \"Samsung\" in text:\n",
    "       return \"Samsung\""
   ]
  },
  {
   "cell_type": "code",
   "execution_count": 24,
   "id": "bc15f3ee",
   "metadata": {
    "execution": {
     "iopub.execute_input": "2024-09-28T14:46:06.685737Z",
     "iopub.status.busy": "2024-09-28T14:46:06.685344Z",
     "iopub.status.idle": "2024-09-28T14:46:06.699668Z",
     "shell.execute_reply": "2024-09-28T14:46:06.698272Z"
    },
    "papermill": {
     "duration": 0.034218,
     "end_time": "2024-09-28T14:46:06.702675",
     "exception": false,
     "start_time": "2024-09-28T14:46:06.668457",
     "status": "completed"
    },
    "tags": []
   },
   "outputs": [
    {
     "data": {
      "text/plain": [
       "CPU Brands\n",
       "AMD        29870.839045\n",
       "Intel      61517.890723\n",
       "Samsung    35111.520000\n",
       "Name: Price, dtype: float64"
      ]
     },
     "execution_count": 24,
     "metadata": {},
     "output_type": "execute_result"
    }
   ],
   "source": [
    "df[\"CPU Brands\"]=df[\"Cpu\"].apply(categorize_cpu_brand)\n",
    "df.groupby(\"CPU Brands\")[\"Price\"].mean()"
   ]
  },
  {
   "cell_type": "code",
   "execution_count": 25,
   "id": "5f6b41ea",
   "metadata": {
    "execution": {
     "iopub.execute_input": "2024-09-28T14:46:06.733578Z",
     "iopub.status.busy": "2024-09-28T14:46:06.733188Z",
     "iopub.status.idle": "2024-09-28T14:46:06.967433Z",
     "shell.execute_reply": "2024-09-28T14:46:06.966132Z"
    },
    "papermill": {
     "duration": 0.253121,
     "end_time": "2024-09-28T14:46:06.969836",
     "exception": false,
     "start_time": "2024-09-28T14:46:06.716715",
     "status": "completed"
    },
    "tags": []
   },
   "outputs": [
    {
     "data": {
      "text/plain": [
       "Text(0, 0.5, 'PRICE')"
      ]
     },
     "execution_count": 25,
     "metadata": {},
     "output_type": "execute_result"
    },
    {
     "data": {
      "image/png": "[encoded data removed]",
      "text/plain": [
       "<Figure size 640x480 with 1 Axes>"
      ]
     },
     "metadata": {},
     "output_type": "display_data"
    }
   ],
   "source": [
    "CPU=df.groupby(\"CPU Brands\")[\"Price\"].mean().sort_values(ascending=True)\n",
    "X=CPU.index\n",
    "Y=CPU.values\n",
    "sns.barplot(x=X,y=Y,palette=\"viridis\")\n",
    "plt.ylabel(\"PRICE\")"
   ]
  },
  {
   "cell_type": "markdown",
   "id": "b5c62b72",
   "metadata": {
    "papermill": {
     "duration": 0.013883,
     "end_time": "2024-09-28T14:46:06.998438",
     "exception": false,
     "start_time": "2024-09-28T14:46:06.984555",
     "status": "completed"
    },
    "tags": []
   },
   "source": [
    "# **Find PPI<br> ( ppi = (√(w²+h²))/d )<br>**\n",
    " w-screen width<br>\n",
    " h- Screen height<br>\n",
    " D- Inches columns"
   ]
  },
  {
   "cell_type": "code",
   "execution_count": 26,
   "id": "2ab67d81",
   "metadata": {
    "execution": {
     "iopub.execute_input": "2024-09-28T14:46:07.029397Z",
     "iopub.status.busy": "2024-09-28T14:46:07.028877Z",
     "iopub.status.idle": "2024-09-28T14:46:07.035652Z",
     "shell.execute_reply": "2024-09-28T14:46:07.034339Z"
    },
    "papermill": {
     "duration": 0.025516,
     "end_time": "2024-09-28T14:46:07.038365",
     "exception": false,
     "start_time": "2024-09-28T14:46:07.012849",
     "status": "completed"
    },
    "tags": []
   },
   "outputs": [],
   "source": [
    "import re\n",
    "\n",
    "def extract_dimensions(text):\n",
    "  text=str(text)\n",
    "  match=re.search(r'(\\d+)x(\\d+)',text)\n",
    "  if match:\n",
    "     width,height=match.groups()\n",
    "     width=int(width)\n",
    "     height=int(height)\n",
    "     return pd.Series([width, height]) # Return a Series with two elements\n",
    "  else:\n",
    "    return pd.Series([None, None]) # Return a Series with two None values"
   ]
  },
  {
   "cell_type": "code",
   "execution_count": 27,
   "id": "eaf1c365",
   "metadata": {
    "execution": {
     "iopub.execute_input": "2024-09-28T14:46:07.069920Z",
     "iopub.status.busy": "2024-09-28T14:46:07.069484Z",
     "iopub.status.idle": "2024-09-28T14:46:07.237581Z",
     "shell.execute_reply": "2024-09-28T14:46:07.236272Z"
    },
    "papermill": {
     "duration": 0.186978,
     "end_time": "2024-09-28T14:46:07.240429",
     "exception": false,
     "start_time": "2024-09-28T14:46:07.053451",
     "status": "completed"
    },
    "tags": []
   },
   "outputs": [],
   "source": [
    "df[[\"Width\", \"Height\"]] = df[\"ScreenResolution\"].apply(extract_dimensions) # Assign to two columns at once"
   ]
  },
  {
   "cell_type": "code",
   "execution_count": 28,
   "id": "48f8d7f4",
   "metadata": {
    "execution": {
     "iopub.execute_input": "2024-09-28T14:46:07.271291Z",
     "iopub.status.busy": "2024-09-28T14:46:07.270851Z",
     "iopub.status.idle": "2024-09-28T14:46:07.292260Z",
     "shell.execute_reply": "2024-09-28T14:46:07.291185Z"
    },
    "papermill": {
     "duration": 0.039434,
     "end_time": "2024-09-28T14:46:07.294611",
     "exception": false,
     "start_time": "2024-09-28T14:46:07.255177",
     "status": "completed"
    },
    "tags": []
   },
   "outputs": [
    {
     "data": {
      "text/html": [
       "<div>\n",
       "<style scoped>\n",
       "    .dataframe tbody tr th:only-of-type {\n",
       "        vertical-align: middle;\n",
       "    }\n",
       "\n",
       "    .dataframe tbody tr th {\n",
       "        vertical-align: top;\n",
       "    }\n",
       "\n",
       "    .dataframe thead th {\n",
       "        text-align: right;\n",
       "    }\n",
       "</style>\n",
       "<table border=\"1\" class=\"dataframe\">\n",
       "  <thead>\n",
       "    <tr style=\"text-align: right;\">\n",
       "      <th></th>\n",
       "      <th>Unnamed: 0</th>\n",
       "      <th>Company</th>\n",
       "      <th>TypeName</th>\n",
       "      <th>Inches</th>\n",
       "      <th>ScreenResolution</th>\n",
       "      <th>Cpu</th>\n",
       "      <th>Ram</th>\n",
       "      <th>Memory</th>\n",
       "      <th>Gpu</th>\n",
       "      <th>OpSys</th>\n",
       "      <th>Weight</th>\n",
       "      <th>Price</th>\n",
       "      <th>Weight-Range</th>\n",
       "      <th>CPU Brands</th>\n",
       "      <th>Width</th>\n",
       "      <th>Height</th>\n",
       "    </tr>\n",
       "  </thead>\n",
       "  <tbody>\n",
       "    <tr>\n",
       "      <th>0</th>\n",
       "      <td>0.0</td>\n",
       "      <td>Apple</td>\n",
       "      <td>Ultrabook</td>\n",
       "      <td>13.3</td>\n",
       "      <td>IPS Panel Retina Display 2560x1600</td>\n",
       "      <td>Intel Core i5 2.3GHz</td>\n",
       "      <td>8GB</td>\n",
       "      <td>128GB SSD</td>\n",
       "      <td>Intel Iris Plus Graphics 640</td>\n",
       "      <td>macOS</td>\n",
       "      <td>1.37</td>\n",
       "      <td>71378.6832</td>\n",
       "      <td>(1, 2]</td>\n",
       "      <td>Intel</td>\n",
       "      <td>2560</td>\n",
       "      <td>1600</td>\n",
       "    </tr>\n",
       "    <tr>\n",
       "      <th>1</th>\n",
       "      <td>1.0</td>\n",
       "      <td>Apple</td>\n",
       "      <td>Ultrabook</td>\n",
       "      <td>13.3</td>\n",
       "      <td>1440x900</td>\n",
       "      <td>Intel Core i5 1.8GHz</td>\n",
       "      <td>8GB</td>\n",
       "      <td>128GB Flash Storage</td>\n",
       "      <td>Intel HD Graphics 6000</td>\n",
       "      <td>macOS</td>\n",
       "      <td>1.34</td>\n",
       "      <td>47895.5232</td>\n",
       "      <td>(1, 2]</td>\n",
       "      <td>Intel</td>\n",
       "      <td>1440</td>\n",
       "      <td>900</td>\n",
       "    </tr>\n",
       "  </tbody>\n",
       "</table>\n",
       "</div>"
      ],
      "text/plain": [
       "   Unnamed: 0 Company   TypeName Inches                    ScreenResolution  \\\n",
       "0         0.0   Apple  Ultrabook   13.3  IPS Panel Retina Display 2560x1600   \n",
       "1         1.0   Apple  Ultrabook   13.3                            1440x900   \n",
       "\n",
       "                    Cpu  Ram               Memory  \\\n",
       "0  Intel Core i5 2.3GHz  8GB            128GB SSD   \n",
       "1  Intel Core i5 1.8GHz  8GB  128GB Flash Storage   \n",
       "\n",
       "                            Gpu  OpSys  Weight       Price Weight-Range  \\\n",
       "0  Intel Iris Plus Graphics 640  macOS    1.37  71378.6832       (1, 2]   \n",
       "1        Intel HD Graphics 6000  macOS    1.34  47895.5232       (1, 2]   \n",
       "\n",
       "  CPU Brands  Width  Height  \n",
       "0      Intel   2560    1600  \n",
       "1      Intel   1440     900  "
      ]
     },
     "execution_count": 28,
     "metadata": {},
     "output_type": "execute_result"
    }
   ],
   "source": [
    "df.head(2)"
   ]
  },
  {
   "cell_type": "code",
   "execution_count": 29,
   "id": "b29eb0d2",
   "metadata": {
    "execution": {
     "iopub.execute_input": "2024-09-28T14:46:07.326942Z",
     "iopub.status.busy": "2024-09-28T14:46:07.326530Z",
     "iopub.status.idle": "2024-09-28T14:46:07.334334Z",
     "shell.execute_reply": "2024-09-28T14:46:07.333069Z"
    },
    "papermill": {
     "duration": 0.028126,
     "end_time": "2024-09-28T14:46:07.337455",
     "exception": false,
     "start_time": "2024-09-28T14:46:07.309329",
     "status": "completed"
    },
    "tags": []
   },
   "outputs": [],
   "source": [
    "#( ppi = (√(w²+h²))/d )\n",
    "def ppi(w,h,d):\n",
    "  sqt=np.sqrt((w**2)+(h**2))\n",
    "  return sqt/d"
   ]
  },
  {
   "cell_type": "code",
   "execution_count": 30,
   "id": "f8f7d32c",
   "metadata": {
    "execution": {
     "iopub.execute_input": "2024-09-28T14:46:07.368858Z",
     "iopub.status.busy": "2024-09-28T14:46:07.368430Z",
     "iopub.status.idle": "2024-09-28T14:46:07.374618Z",
     "shell.execute_reply": "2024-09-28T14:46:07.373272Z"
    },
    "papermill": {
     "duration": 0.025363,
     "end_time": "2024-09-28T14:46:07.377323",
     "exception": false,
     "start_time": "2024-09-28T14:46:07.351960",
     "status": "completed"
    },
    "tags": []
   },
   "outputs": [],
   "source": [
    "def clean(text):\n",
    "    text = str(text)\n",
    "    text = re.sub('[^0-9]', '', text)\n",
    "    return text"
   ]
  },
  {
   "cell_type": "code",
   "execution_count": 31,
   "id": "6b0eb6ff",
   "metadata": {
    "execution": {
     "iopub.execute_input": "2024-09-28T14:46:07.408162Z",
     "iopub.status.busy": "2024-09-28T14:46:07.407696Z",
     "iopub.status.idle": "2024-09-28T14:46:07.420505Z",
     "shell.execute_reply": "2024-09-28T14:46:07.419174Z"
    },
    "papermill": {
     "duration": 0.031542,
     "end_time": "2024-09-28T14:46:07.423050",
     "exception": false,
     "start_time": "2024-09-28T14:46:07.391508",
     "status": "completed"
    },
    "tags": []
   },
   "outputs": [],
   "source": [
    "df[\"Inches\"]=df[\"Inches\"].apply(clean)\n",
    "d=pd.to_numeric(df[\"Inches\"])\n",
    "w=df[\"Width\"]\n",
    "h=df[\"Height\"]\n",
    "\n",
    "df[\"ppi\"]=ppi(w,h,d)"
   ]
  },
  {
   "cell_type": "code",
   "execution_count": 32,
   "id": "bce49dea",
   "metadata": {
    "execution": {
     "iopub.execute_input": "2024-09-28T14:46:07.455638Z",
     "iopub.status.busy": "2024-09-28T14:46:07.455261Z",
     "iopub.status.idle": "2024-09-28T14:46:07.481242Z",
     "shell.execute_reply": "2024-09-28T14:46:07.479963Z"
    },
    "papermill": {
     "duration": 0.045471,
     "end_time": "2024-09-28T14:46:07.483664",
     "exception": false,
     "start_time": "2024-09-28T14:46:07.438193",
     "status": "completed"
    },
    "tags": []
   },
   "outputs": [
    {
     "data": {
      "text/html": [
       "<div>\n",
       "<style scoped>\n",
       "    .dataframe tbody tr th:only-of-type {\n",
       "        vertical-align: middle;\n",
       "    }\n",
       "\n",
       "    .dataframe tbody tr th {\n",
       "        vertical-align: top;\n",
       "    }\n",
       "\n",
       "    .dataframe thead th {\n",
       "        text-align: right;\n",
       "    }\n",
       "</style>\n",
       "<table border=\"1\" class=\"dataframe\">\n",
       "  <thead>\n",
       "    <tr style=\"text-align: right;\">\n",
       "      <th></th>\n",
       "      <th>Unnamed: 0</th>\n",
       "      <th>Company</th>\n",
       "      <th>TypeName</th>\n",
       "      <th>Inches</th>\n",
       "      <th>ScreenResolution</th>\n",
       "      <th>Cpu</th>\n",
       "      <th>Ram</th>\n",
       "      <th>Memory</th>\n",
       "      <th>Gpu</th>\n",
       "      <th>OpSys</th>\n",
       "      <th>Weight</th>\n",
       "      <th>Price</th>\n",
       "      <th>Weight-Range</th>\n",
       "      <th>CPU Brands</th>\n",
       "      <th>Width</th>\n",
       "      <th>Height</th>\n",
       "      <th>ppi</th>\n",
       "    </tr>\n",
       "  </thead>\n",
       "  <tbody>\n",
       "    <tr>\n",
       "      <th>0</th>\n",
       "      <td>0.0</td>\n",
       "      <td>Apple</td>\n",
       "      <td>Ultrabook</td>\n",
       "      <td>133</td>\n",
       "      <td>IPS Panel Retina Display 2560x1600</td>\n",
       "      <td>Intel Core i5 2.3GHz</td>\n",
       "      <td>8GB</td>\n",
       "      <td>128GB SSD</td>\n",
       "      <td>Intel Iris Plus Graphics 640</td>\n",
       "      <td>macOS</td>\n",
       "      <td>1.37</td>\n",
       "      <td>71378.6832</td>\n",
       "      <td>(1, 2]</td>\n",
       "      <td>Intel</td>\n",
       "      <td>2560</td>\n",
       "      <td>1600</td>\n",
       "      <td>22.698300</td>\n",
       "    </tr>\n",
       "    <tr>\n",
       "      <th>1</th>\n",
       "      <td>1.0</td>\n",
       "      <td>Apple</td>\n",
       "      <td>Ultrabook</td>\n",
       "      <td>133</td>\n",
       "      <td>1440x900</td>\n",
       "      <td>Intel Core i5 1.8GHz</td>\n",
       "      <td>8GB</td>\n",
       "      <td>128GB Flash Storage</td>\n",
       "      <td>Intel HD Graphics 6000</td>\n",
       "      <td>macOS</td>\n",
       "      <td>1.34</td>\n",
       "      <td>47895.5232</td>\n",
       "      <td>(1, 2]</td>\n",
       "      <td>Intel</td>\n",
       "      <td>1440</td>\n",
       "      <td>900</td>\n",
       "      <td>12.767794</td>\n",
       "    </tr>\n",
       "    <tr>\n",
       "      <th>2</th>\n",
       "      <td>2.0</td>\n",
       "      <td>HP</td>\n",
       "      <td>Notebook</td>\n",
       "      <td>156</td>\n",
       "      <td>Full HD 1920x1080</td>\n",
       "      <td>Intel Core i5 7200U 2.5GHz</td>\n",
       "      <td>8GB</td>\n",
       "      <td>256GB SSD</td>\n",
       "      <td>Intel HD Graphics 620</td>\n",
       "      <td>No OS</td>\n",
       "      <td>1.86</td>\n",
       "      <td>30636.0000</td>\n",
       "      <td>(1, 2]</td>\n",
       "      <td>Intel</td>\n",
       "      <td>1920</td>\n",
       "      <td>1080</td>\n",
       "      <td>14.121200</td>\n",
       "    </tr>\n",
       "    <tr>\n",
       "      <th>3</th>\n",
       "      <td>3.0</td>\n",
       "      <td>Apple</td>\n",
       "      <td>Ultrabook</td>\n",
       "      <td>154</td>\n",
       "      <td>IPS Panel Retina Display 2880x1800</td>\n",
       "      <td>Intel Core i7 2.7GHz</td>\n",
       "      <td>16GB</td>\n",
       "      <td>512GB SSD</td>\n",
       "      <td>AMD Radeon Pro 455</td>\n",
       "      <td>macOS</td>\n",
       "      <td>1.83</td>\n",
       "      <td>135195.3360</td>\n",
       "      <td>(1, 2]</td>\n",
       "      <td>Intel</td>\n",
       "      <td>2880</td>\n",
       "      <td>1800</td>\n",
       "      <td>22.053462</td>\n",
       "    </tr>\n",
       "    <tr>\n",
       "      <th>4</th>\n",
       "      <td>4.0</td>\n",
       "      <td>Apple</td>\n",
       "      <td>Ultrabook</td>\n",
       "      <td>133</td>\n",
       "      <td>IPS Panel Retina Display 2560x1600</td>\n",
       "      <td>Intel Core i5 3.1GHz</td>\n",
       "      <td>8GB</td>\n",
       "      <td>256GB SSD</td>\n",
       "      <td>Intel Iris Plus Graphics 650</td>\n",
       "      <td>macOS</td>\n",
       "      <td>1.37</td>\n",
       "      <td>96095.8080</td>\n",
       "      <td>(1, 2]</td>\n",
       "      <td>Intel</td>\n",
       "      <td>2560</td>\n",
       "      <td>1600</td>\n",
       "      <td>22.698300</td>\n",
       "    </tr>\n",
       "  </tbody>\n",
       "</table>\n",
       "</div>"
      ],
      "text/plain": [
       "   Unnamed: 0 Company   TypeName Inches                    ScreenResolution  \\\n",
       "0         0.0   Apple  Ultrabook    133  IPS Panel Retina Display 2560x1600   \n",
       "1         1.0   Apple  Ultrabook    133                            1440x900   \n",
       "2         2.0      HP   Notebook    156                   Full HD 1920x1080   \n",
       "3         3.0   Apple  Ultrabook    154  IPS Panel Retina Display 2880x1800   \n",
       "4         4.0   Apple  Ultrabook    133  IPS Panel Retina Display 2560x1600   \n",
       "\n",
       "                          Cpu   Ram               Memory  \\\n",
       "0        Intel Core i5 2.3GHz   8GB            128GB SSD   \n",
       "1        Intel Core i5 1.8GHz   8GB  128GB Flash Storage   \n",
       "2  Intel Core i5 7200U 2.5GHz   8GB            256GB SSD   \n",
       "3        Intel Core i7 2.7GHz  16GB            512GB SSD   \n",
       "4        Intel Core i5 3.1GHz   8GB            256GB SSD   \n",
       "\n",
       "                            Gpu  OpSys  Weight        Price Weight-Range  \\\n",
       "0  Intel Iris Plus Graphics 640  macOS    1.37   71378.6832       (1, 2]   \n",
       "1        Intel HD Graphics 6000  macOS    1.34   47895.5232       (1, 2]   \n",
       "2         Intel HD Graphics 620  No OS    1.86   30636.0000       (1, 2]   \n",
       "3            AMD Radeon Pro 455  macOS    1.83  135195.3360       (1, 2]   \n",
       "4  Intel Iris Plus Graphics 650  macOS    1.37   96095.8080       (1, 2]   \n",
       "\n",
       "  CPU Brands  Width  Height        ppi  \n",
       "0      Intel   2560    1600  22.698300  \n",
       "1      Intel   1440     900  12.767794  \n",
       "2      Intel   1920    1080  14.121200  \n",
       "3      Intel   2880    1800  22.053462  \n",
       "4      Intel   2560    1600  22.698300  "
      ]
     },
     "execution_count": 32,
     "metadata": {},
     "output_type": "execute_result"
    }
   ],
   "source": [
    "df.head()"
   ]
  }
 ],
 "metadata": {
  "kaggle": {
   "accelerator": "none",
   "dataSources": [
    {
     "datasetId": 2904981,
     "sourceId": 5006761,
     "sourceType": "datasetVersion"
    }
   ],
   "dockerImageVersionId": 30761,
   "isGpuEnabled": false,
   "isInternetEnabled": true,
   "language": "python",
   "sourceType": "notebook"
  },
  "kernelspec": {
   "display_name": "Python 3",
   "language": "python",
   "name": "python3"
  },
  "language_info": {
   "codemirror_mode": {
    "name": "ipython",
    "version": 3
   },
   "file_extension": ".py",
   "mimetype": "text/x-python",
   "name": "python",
   "nbconvert_exporter": "python",
   "pygments_lexer": "ipython3",
   "version": "3.10.14"
  },
  "papermill": {
   "default_parameters": {},
   "duration": 11.304867,
   "end_time": "2024-09-28T14:46:08.222965",
   "environment_variables": {},
   "exception": null,
   "input_path": "__notebook__.ipynb",
   "output_path": "__notebook__.ipynb",
   "parameters": {},
   "start_time": "2024-09-28T14:45:56.918098",
   "version": "2.6.0"
  }
 },
 "nbformat": 4,
 "nbformat_minor": 5
}
